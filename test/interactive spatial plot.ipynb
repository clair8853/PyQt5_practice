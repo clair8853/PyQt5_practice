{
 "cells": [
  {
   "cell_type": "code",
   "execution_count": 1,
   "id": "203e5b1a-b3dd-459b-8aa9-af96e07b46d8",
   "metadata": {},
   "outputs": [],
   "source": [
    "import scanpy as sc\n",
    "import anndata as ad\n",
    "import plotly.express as px\n",
    "import plotly.io as pio\n",
    "pio.renderers.default='iframe'"
   ]
  },
  {
   "cell_type": "code",
   "execution_count": 2,
   "id": "8affdede-c5f3-4fa8-83ed-9f63aaed8a93",
   "metadata": {},
   "outputs": [],
   "source": [
    "adata1 = sc.read_h5ad('P4_marmoset_test_brain.hdf5')"
   ]
  },
  {
   "cell_type": "code",
   "execution_count": 3,
   "id": "d94ecd20-38c5-4d5a-ba3c-1fe72c8c4913",
   "metadata": {},
   "outputs": [],
   "source": [
    "first_column = adata1.obsm['spatial'][:, 0]\n",
    "second_column = adata1.obsm['spatial'][:, 1]\n",
    "cell_type = adata1.obs['cell_type_2']\n",
    "cell_type_color = adata1.uns['cell_type_2_colors']"
   ]
  },
  {
   "cell_type": "code",
   "execution_count": 11,
   "id": "0635b22e-6f31-4ca9-8c81-602bfd59101c",
   "metadata": {},
   "outputs": [],
   "source": [
    "categories = cell_type.astype('category').cat.categories\n",
    "color_map = {category: color for category, color in zip(categories, cell_type_color)}"
   ]
  },
  {
   "cell_type": "code",
   "execution_count": 12,
   "id": "6f2c8294-1a1f-428f-868e-a7216f2b93d5",
   "metadata": {},
   "outputs": [
    {
     "data": {
      "text/html": [
       "<iframe\n",
       "    scrolling=\"no\"\n",
       "    width=\"100%\"\n",
       "    height=\"545px\"\n",
       "    src=\"iframe_figures/figure_12.html\"\n",
       "    frameborder=\"0\"\n",
       "    allowfullscreen\n",
       "></iframe>\n"
      ]
     },
     "metadata": {},
     "output_type": "display_data"
    }
   ],
   "source": [
    "fig = px.scatter(x=first_column, \n",
    "                 y=second_column, \n",
    "                 color=cell_type,\n",
    "                 color_discrete_map=color_map\n",
    "                 )\n",
    "\n",
    "fig.update_traces(marker=dict(size=2))\n",
    "\n",
    "# スケール統一、背景白\n",
    "fig.update_layout(\n",
    "    xaxis=dict(\n",
    "        scaleanchor=\"y\",  # Y軸にスケールを合わせる\n",
    "        scaleratio=1      # X軸とY軸の比率を1:1にする(長さ変えない)\n",
    "    ),\n",
    "    yaxis=dict(\n",
    "        scaleanchor=\"x\",  # X軸にスケールを合わせる\n",
    "        scaleratio=1      # Y軸とX軸の比率を1:1にする(長さ変えない)\n",
    "    ),\n",
    "    plot_bgcolor=\"white\",  \n",
    "    paper_bgcolor=\"white\"  \n",
    ")\n",
    "fig.show()"
   ]
  }
 ],
 "metadata": {
  "kernelspec": {
   "display_name": "Python 3 (ipykernel)",
   "language": "python",
   "name": "python3"
  },
  "language_info": {
   "codemirror_mode": {
    "name": "ipython",
    "version": 3
   },
   "file_extension": ".py",
   "mimetype": "text/x-python",
   "name": "python",
   "nbconvert_exporter": "python",
   "pygments_lexer": "ipython3",
   "version": "3.11.9"
  }
 },
 "nbformat": 4,
 "nbformat_minor": 5
}
